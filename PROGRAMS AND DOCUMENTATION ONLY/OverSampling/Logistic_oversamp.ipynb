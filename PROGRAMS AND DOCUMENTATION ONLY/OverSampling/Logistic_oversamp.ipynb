{
 "cells": [
  {
   "cell_type": "markdown",
   "metadata": {
    "colab_type": "text",
    "id": "DO-KZ9zi5wES"
   },
   "source": [
    "\n",
    "\n",
    "#Author: Srikaran Elakurthy\n",
    "\n",
    "# Description\n",
    "Import the processed cleaned over sampled lyrics dataset and divide inro train set and test set and store them into csv files for further use of them in Naivebayes model.\n",
    "\n",
    "Implementing the logistic multi class classification on the above dataset.\n",
    "Performing Cross validation with kfolds =5 and extract average accuracy.\n",
    "\n",
    "Predict the test data and store the results.\n",
    "\n",
    "Extracting the ngrams of only rock data set and ngrams of all classes dataset except the rock .\n",
    "Then we intersect the ngrams  of both and find the common ngrams and inturn we again find common ngrams with the  ngrams of whole train dataset and ngrams which we obtained from above intersection .\n",
    "\n",
    "The resulted ngrams rock weights will be extracted from the model and decrease by a factor and predict the test set with the modified model and store the results.\n",
    "\n",
    "*Detailed description is written for many parts of the code below. Please read through for the same.\n",
    "\n",
    "#Inputs and Outputs\n",
    "\n",
    "Inputs:\n",
    "> cleaneddata_oversampled.csv - The oversampled data distribution associated with the increase in the records of other genres and decrease in the records of the Rock genre is provided as an input\n",
    "\n",
    "\n",
    "Outputs:\n",
    "> oversampling_train.csv - The train set on which the model was trained.\n",
    "> oversampling_test.csv - The test set on which the model was trained.\n",
    "> logioversamp_results.txt - The classification report of the trained model over the test set.\n",
    "> finalreslogiovrsam.csv - The actual and predicted values of the trained classifier on the test set.\n",
    "> finalreslogiovrsam_rockreduced.csv - The actual and predcited values of the weight adjusted model on the rock genre.\n",
    "> finallogioversamp_intersect_results_rockreduced10.txt - The classification metrics for the reduced model weights for the Rock genre by 10 percent.\n",
    "> finallogioversamp_intersect_results_rockreduced10.csv - Actual and predicted values of the reduced model weights for the Rock genre by 10 percent.\n",
    "\n",
    "> finallogiovrsam_reducerock.pkl - The weight adjusted model written into a file.\n",
    "> Final_models/logiovrsam.pkl - Storing the model trained on the overasmpled dataset.\n",
    "> finallogioversamp_results_rockreduced.txt - The classification report dumped into a file by the weight reduced model on the test set.\n",
    "\n",
    "\n",
    "\n",
    "*The inputs to the program must be in the same folder as the script.\n",
    "\n",
    "INPUT: The input to the program is cleaneddata_oversampled.csv\n",
    "OUTPUT:\n",
    "report:\n",
    "              precision    recall  f1-score   support\n",
    "\n",
    "         R&B       0.73      0.73      0.73      5753\n",
    "     Country       0.86      0.82      0.84      5725\n",
    "        Jazz       0.95      1.00      0.97      5694\n",
    "     Hip-Hop       0.86      0.81      0.83      5708\n",
    "        Rock       0.94      0.99      0.97      5448\n",
    "        Folk       0.75      0.65      0.69      4340\n",
    "       Other       0.76      0.76      0.76      5650\n",
    "       Metal       0.87      0.89      0.88      5433\n",
    "       Indie       0.54      0.43      0.48      7014\n",
    "         Pop       0.87      0.96      0.92      5381\n",
    "    Electronic     0.54      0.61      0.58     10111\n",
    "\n",
    "    accuracy                           0.77     66257\n",
    "    macro avg       0.79      0.79      0.79     66257\n",
    "    weighted avg       0.77      0.77      0.77     66257\n",
    "\n",
    "\n",
    "\n"
   ]
  },
  {
   "cell_type": "markdown",
   "metadata": {
    "colab_type": "text",
    "id": "dhjpy2ac7IOp"
   },
   "source": [
    "Importing the necessary python packages"
   ]
  },
  {
   "cell_type": "code",
   "execution_count": null,
   "metadata": {
    "colab": {
     "base_uri": "https://localhost:8080/",
     "height": 71
    },
    "colab_type": "code",
    "executionInfo": {
     "elapsed": 399,
     "status": "ok",
     "timestamp": 1589186781794,
     "user": {
      "displayName": "Srikaran Elakurthy",
      "photoUrl": "",
      "userId": "11196471557604689597"
     },
     "user_tz": 240
    },
    "id": "bSw1jCSN5haW",
    "outputId": "354445db-4aed-406b-9fc5-347a73536ad6"
   },
   "outputs": [
    {
     "name": "stderr",
     "output_type": "stream",
     "text": [
      "/usr/local/lib/python3.6/dist-packages/sklearn/externals/joblib/__init__.py:15: FutureWarning: sklearn.externals.joblib is deprecated in 0.21 and will be removed in 0.23. Please import this functionality directly from joblib, which can be installed with: pip install joblib. If this warning is raised when loading pickled models, you may need to re-serialize those models with scikit-learn 0.21+.\n",
      "  warnings.warn(msg, category=FutureWarning)\n"
     ]
    }
   ],
   "source": [
    "import numpy as np\n",
    "import pandas as pd\n",
    "import re\n",
    "from nltk import pos_tag\n",
    "import nltk\n",
    "#nltk.download('averaged_perceptron_tagger')\n",
    "#from langdetect import detect\n",
    "import nltk\n",
    "from nltk.tokenize import RegexpTokenizer\n",
    "from nltk.stem import PorterStemmer\n",
    "#import emoji\n",
    "from sklearn.model_selection import train_test_split\n",
    "from sklearn.feature_extraction.text import CountVectorizer\n",
    "from sklearn.feature_extraction.text import TfidfVectorizer\n",
    "from sklearn.naive_bayes import MultinomialNB\n",
    "import matplotlib.pyplot as plt\n",
    "from sklearn.metrics import classification_report\n",
    "from sklearn.utils import shuffle\n",
    "from sklearn.externals import joblib \n",
    "from sklearn.preprocessing import Normalizer\n",
    "from scipy.sparse import hstack\n",
    "from sklearn.metrics import classification_report\n",
    "from statistics import mean\n",
    "from sklearn.model_selection import StratifiedKFold\n",
    "from sklearn.metrics import accuracy_score\n",
    "from sklearn.linear_model import LogisticRegression\n",
    "from operator import itemgetter \n",
    "\n",
    "\n"
   ]
  },
  {
   "cell_type": "markdown",
   "metadata": {
    "colab_type": "text",
    "id": "zxglr0Yn7qaJ"
   },
   "source": [
    "Importing the cleaned oversampled lyrics dataset"
   ]
  },
  {
   "cell_type": "code",
   "execution_count": null,
   "metadata": {
    "colab": {},
    "colab_type": "code",
    "id": "h3-yfYDi5hab",
    "outputId": "56e678de-4b6a-4a72-bdff-863c5d2d32ca"
   },
   "outputs": [
    {
     "data": {
      "text/plain": [
       "(331283, 8)"
      ]
     },
     "execution_count": 69,
     "metadata": {
      "tags": []
     },
     "output_type": "execute_result"
    }
   ],
   "source": [
    "df=pd.read_csv(\"cleaneddata_oversampled.csv\")"
   ]
  },
  {
   "cell_type": "markdown",
   "metadata": {
    "colab_type": "text",
    "id": "Zi2Tnz1k7wNY"
   },
   "source": [
    "Dropping the index column whcih was created by when we read a file into a dataframe"
   ]
  },
  {
   "cell_type": "code",
   "execution_count": null,
   "metadata": {
    "colab": {},
    "colab_type": "code",
    "id": "0Lib10_X5hag"
   },
   "outputs": [],
   "source": [
    "df.drop([\"index\"], axis = 1, inplace = True)"
   ]
  },
  {
   "cell_type": "code",
   "execution_count": null,
   "metadata": {
    "colab": {},
    "colab_type": "code",
    "id": "MPq0U6a85haj"
   },
   "outputs": [],
   "source": [
    "df.drop(df.columns[df.columns.str.contains('unnamed',case = False)],axis = 1, inplace = True)\n",
    "\n"
   ]
  },
  {
   "cell_type": "markdown",
   "metadata": {
    "colab_type": "text",
    "id": "EQ3tN6Or78wT"
   },
   "source": [
    "Dividing the dataset into train and test set with size of 80% and 20 % respectively.\n",
    "The train and test datasets are stored into csv files."
   ]
  },
  {
   "cell_type": "code",
   "execution_count": null,
   "metadata": {
    "colab": {},
    "colab_type": "code",
    "id": "CQeW8fUo5hal",
    "outputId": "d5ebdbff-3b19-4261-9f1e-55b86e9ddcea"
   },
   "outputs": [
    {
     "name": "stdout",
     "output_type": "stream",
     "text": [
      "(265026,) (265026,)\n",
      "(66257,) (66257,)\n"
     ]
    }
   ],
   "source": [
    "X=df['lyrics']\n",
    "Y=df['genre']\n",
    "Xtrain, Xtest, Ytrain, Ytest = train_test_split(X,Y, test_size = 0.20, random_state = 42)\n",
    "print(Xtrain.shape,Ytrain.shape)\n",
    "print(Xtest.shape,Ytest.shape)\n",
    "frame = { 'lyrics': Xtrain, 'genre': Ytrain } \n",
    "  \n",
    "traindf = pd.DataFrame(frame)\n",
    "traindf.to_csv(\"oversampling_train.csv\")\n",
    "frame = { 'lyrics': Xtest, 'genre': Ytest } \n",
    "  \n",
    "testdf = pd.DataFrame(frame)\n",
    "testdf.to_csv(\"oversampling_test.csv\")"
   ]
  },
  {
   "cell_type": "code",
   "execution_count": null,
   "metadata": {
    "colab": {},
    "colab_type": "code",
    "id": "moC5sZZO5hao",
    "outputId": "793e7b16-5627-46c7-95e7-3fd0c1c10202"
   },
   "outputs": [
    {
     "data": {
      "text/html": [
       "<div>\n",
       "<style scoped>\n",
       "    .dataframe tbody tr th:only-of-type {\n",
       "        vertical-align: middle;\n",
       "    }\n",
       "\n",
       "    .dataframe tbody tr th {\n",
       "        vertical-align: top;\n",
       "    }\n",
       "\n",
       "    .dataframe thead th {\n",
       "        text-align: right;\n",
       "    }\n",
       "</style>\n",
       "<table border=\"1\" class=\"dataframe\">\n",
       "  <thead>\n",
       "    <tr style=\"text-align: right;\">\n",
       "      <th></th>\n",
       "      <th>artist</th>\n",
       "      <th>genre</th>\n",
       "      <th>is_eng</th>\n",
       "      <th>lyrics</th>\n",
       "      <th>song</th>\n",
       "      <th>year</th>\n",
       "    </tr>\n",
       "  </thead>\n",
       "  <tbody>\n",
       "    <tr>\n",
       "      <th>0</th>\n",
       "      <td>atb</td>\n",
       "      <td>Electronic</td>\n",
       "      <td>1.0</td>\n",
       "      <td>till i come till i come chang it and see till ...</td>\n",
       "      <td>9-p-m-till-i-come</td>\n",
       "      <td>2007</td>\n",
       "    </tr>\n",
       "    <tr>\n",
       "      <th>1</th>\n",
       "      <td>bobby-darin</td>\n",
       "      <td>Jazz</td>\n",
       "      <td>1.0</td>\n",
       "      <td>if i could talk to the anim just imagin it cha...</td>\n",
       "      <td>talk-to-the-animals</td>\n",
       "      <td>2007</td>\n",
       "    </tr>\n",
       "    <tr>\n",
       "      <th>2</th>\n",
       "      <td>erasure</td>\n",
       "      <td>Pop</td>\n",
       "      <td>1.0</td>\n",
       "      <td>love is colder than death they say to warm you...</td>\n",
       "      <td>love-is-colder-than-death</td>\n",
       "      <td>2006</td>\n",
       "    </tr>\n",
       "    <tr>\n",
       "      <th>3</th>\n",
       "      <td>alicia-keys</td>\n",
       "      <td>Pop</td>\n",
       "      <td>1.0</td>\n",
       "      <td>let s go back in time when see your id on mine...</td>\n",
       "      <td>love</td>\n",
       "      <td>2007</td>\n",
       "    </tr>\n",
       "    <tr>\n",
       "      <th>4</th>\n",
       "      <td>anita-o-day</td>\n",
       "      <td>Other</td>\n",
       "      <td>1.0</td>\n",
       "      <td>yesterday you came my way and when you smile a...</td>\n",
       "      <td>i-can-t-believe-that-you-re-in-love-with-me</td>\n",
       "      <td>2014</td>\n",
       "    </tr>\n",
       "  </tbody>\n",
       "</table>\n",
       "</div>"
      ],
      "text/plain": [
       "        artist       genre  is_eng  \\\n",
       "0          atb  Electronic     1.0   \n",
       "1  bobby-darin        Jazz     1.0   \n",
       "2      erasure         Pop     1.0   \n",
       "3  alicia-keys         Pop     1.0   \n",
       "4  anita-o-day       Other     1.0   \n",
       "\n",
       "                                              lyrics  \\\n",
       "0  till i come till i come chang it and see till ...   \n",
       "1  if i could talk to the anim just imagin it cha...   \n",
       "2  love is colder than death they say to warm you...   \n",
       "3  let s go back in time when see your id on mine...   \n",
       "4  yesterday you came my way and when you smile a...   \n",
       "\n",
       "                                          song  year  \n",
       "0                            9-p-m-till-i-come  2007  \n",
       "1                          talk-to-the-animals  2007  \n",
       "2                    love-is-colder-than-death  2006  \n",
       "3                                         love  2007  \n",
       "4  i-can-t-believe-that-you-re-in-love-with-me  2014  "
      ]
     },
     "execution_count": 79,
     "metadata": {
      "tags": []
     },
     "output_type": "execute_result"
    }
   ],
   "source": [
    "df.head()"
   ]
  },
  {
   "cell_type": "code",
   "execution_count": null,
   "metadata": {
    "colab": {},
    "colab_type": "code",
    "id": "OdbP6t0x5haq",
    "outputId": "0f73a266-66e5-4807-92c1-578c630ae85e"
   },
   "outputs": [
    {
     "data": {
      "text/html": [
       "<div>\n",
       "<style scoped>\n",
       "    .dataframe tbody tr th:only-of-type {\n",
       "        vertical-align: middle;\n",
       "    }\n",
       "\n",
       "    .dataframe tbody tr th {\n",
       "        vertical-align: top;\n",
       "    }\n",
       "\n",
       "    .dataframe thead th {\n",
       "        text-align: right;\n",
       "    }\n",
       "</style>\n",
       "<table border=\"1\" class=\"dataframe\">\n",
       "  <thead>\n",
       "    <tr style=\"text-align: right;\">\n",
       "      <th></th>\n",
       "      <th>index</th>\n",
       "      <th>artist</th>\n",
       "      <th>genre</th>\n",
       "      <th>is_eng</th>\n",
       "      <th>lyrics</th>\n",
       "      <th>song</th>\n",
       "      <th>year</th>\n",
       "    </tr>\n",
       "  </thead>\n",
       "  <tbody>\n",
       "    <tr>\n",
       "      <th>0</th>\n",
       "      <td>233976</td>\n",
       "      <td>atb</td>\n",
       "      <td>Electronic</td>\n",
       "      <td>1.0</td>\n",
       "      <td>till i come till i come chang it and see till ...</td>\n",
       "      <td>9-p-m-till-i-come</td>\n",
       "      <td>2007</td>\n",
       "    </tr>\n",
       "    <tr>\n",
       "      <th>1</th>\n",
       "      <td>132970</td>\n",
       "      <td>bobby-darin</td>\n",
       "      <td>Jazz</td>\n",
       "      <td>1.0</td>\n",
       "      <td>if i could talk to the anim just imagin it cha...</td>\n",
       "      <td>talk-to-the-animals</td>\n",
       "      <td>2007</td>\n",
       "    </tr>\n",
       "    <tr>\n",
       "      <th>2</th>\n",
       "      <td>32306</td>\n",
       "      <td>erasure</td>\n",
       "      <td>Pop</td>\n",
       "      <td>1.0</td>\n",
       "      <td>love is colder than death they say to warm you...</td>\n",
       "      <td>love-is-colder-than-death</td>\n",
       "      <td>2006</td>\n",
       "    </tr>\n",
       "    <tr>\n",
       "      <th>3</th>\n",
       "      <td>58076</td>\n",
       "      <td>alicia-keys</td>\n",
       "      <td>Pop</td>\n",
       "      <td>1.0</td>\n",
       "      <td>let s go back in time when see your id on mine...</td>\n",
       "      <td>love</td>\n",
       "      <td>2007</td>\n",
       "    </tr>\n",
       "    <tr>\n",
       "      <th>4</th>\n",
       "      <td>75486</td>\n",
       "      <td>anita-o-day</td>\n",
       "      <td>Other</td>\n",
       "      <td>1.0</td>\n",
       "      <td>yesterday you came my way and when you smile a...</td>\n",
       "      <td>i-can-t-believe-that-you-re-in-love-with-me</td>\n",
       "      <td>2014</td>\n",
       "    </tr>\n",
       "  </tbody>\n",
       "</table>\n",
       "</div>"
      ],
      "text/plain": [
       "    index       artist       genre  is_eng  \\\n",
       "0  233976          atb  Electronic     1.0   \n",
       "1  132970  bobby-darin        Jazz     1.0   \n",
       "2   32306      erasure         Pop     1.0   \n",
       "3   58076  alicia-keys         Pop     1.0   \n",
       "4   75486  anita-o-day       Other     1.0   \n",
       "\n",
       "                                              lyrics  \\\n",
       "0  till i come till i come chang it and see till ...   \n",
       "1  if i could talk to the anim just imagin it cha...   \n",
       "2  love is colder than death they say to warm you...   \n",
       "3  let s go back in time when see your id on mine...   \n",
       "4  yesterday you came my way and when you smile a...   \n",
       "\n",
       "                                          song  year  \n",
       "0                            9-p-m-till-i-come  2007  \n",
       "1                          talk-to-the-animals  2007  \n",
       "2                    love-is-colder-than-death  2006  \n",
       "3                                         love  2007  \n",
       "4  i-can-t-believe-that-you-re-in-love-with-me  2014  "
      ]
     },
     "execution_count": 74,
     "metadata": {
      "tags": []
     },
     "output_type": "execute_result"
    }
   ],
   "source": [
    "df.head()"
   ]
  },
  {
   "cell_type": "code",
   "execution_count": null,
   "metadata": {
    "colab": {},
    "colab_type": "code",
    "id": "YbsUV5_H5has"
   },
   "outputs": [],
   "source": [
    "lyrics=df['lyrics']\n",
    "genre=df['genre']"
   ]
  },
  {
   "cell_type": "markdown",
   "metadata": {
    "colab_type": "text",
    "id": "OtUE9PHY8Ngz"
   },
   "source": [
    "Performing cross validation with 5 splits and implementing tfidf vectorization inside the cross validation to avoid any data leakage.\n",
    "\n",
    "\n",
    "\n",
    "*   TFidf Vectorization will consider parameters stop_words= english specifying that it will be removing any english words and says to consider both unigrams and bigrams.\n",
    "*   We are specifying the parameters on logistic model as multiclass as multinonial specifying we are seeking a multi class problem and optimization algorithm as 'sag'. Using sag so that the it is best for converging fastly on large datasets.\n",
    "\n",
    "\n",
    "*   Storing the models in pickle files using joblib  and results with actual and predicted values into a csv file.\n",
    "*   Storing the accuracy of every cross validation split into a list.\n",
    "\n",
    "\n",
    "\n"
   ]
  },
  {
   "cell_type": "code",
   "execution_count": null,
   "metadata": {
    "colab": {},
    "colab_type": "code",
    "id": "S1mFJFPR5hau",
    "outputId": "8335cd27-f927-4ea0-e568-0b0a633af9fa"
   },
   "outputs": [
    {
     "name": "stderr",
     "output_type": "stream",
     "text": [
      "/opt/conda/lib/python3.7/site-packages/sklearn/model_selection/_split.py:296: FutureWarning: Setting a random_state has no effect since shuffle is False. This will raise an error in 0.24. You should leave random_state to its default (None), or set shuffle=True.\n",
      "  FutureWarning\n"
     ]
    },
    {
     "name": "stdout",
     "output_type": "stream",
     "text": [
      "[ 64931  64946  64967 ... 331280 331281 331282]\n",
      "[    0     1     2 ... 68175 68209 68244]\n",
      "tfidf1\n",
      "0.7712694507750124\n",
      "[     0      1      2 ... 331280 331281 331282]\n",
      "[ 64931  64946  64967 ... 133474 133493 133515]\n",
      "tfidf2\n",
      "0.765866248094541\n",
      "[     0      1      2 ... 331280 331281 331282]\n",
      "[131532 131542 131549 ... 199969 199978 199982]\n",
      "tfidf3\n",
      "0.7694432286399927\n",
      "[     0      1      2 ... 331280 331281 331282]\n",
      "[197484 197487 197489 ... 266727 266732 266754]\n",
      "tfidf4\n",
      "0.7696510504709008\n",
      "[     0      1      2 ... 266727 266732 266754]\n",
      "[263481 263491 263509 ... 331280 331281 331282]\n",
      "tfidf5\n",
      "0.7693190050712388\n"
     ]
    }
   ],
   "source": [
    "skf = StratifiedKFold(n_splits=5, random_state=0)\n",
    "i=0\n",
    "logirep=[]\n",
    "logiscore=[]\n",
    "for train_index, test_index in skf.split(lyrics, genre):\n",
    "    print(train_index)\n",
    "    print(test_index)\n",
    "    x_train1, x_test1 = lyrics.iloc[train_index], lyrics.iloc[test_index]\n",
    "    y_train, y_test = genre.iloc[train_index], genre.iloc[test_index]\n",
    "    i=i+1\n",
    "    tfidf = TfidfVectorizer(stop_words=\"english\",ngram_range=(1,2))\n",
    "    x_train = tfidf.fit_transform(x_train1)\n",
    "    x_test = tfidf.transform(x_test1)\n",
    "    print(\"tfidf\"+str(i))\n",
    "    \n",
    "    clf = LogisticRegression(multi_class='multinomial',solver='sag')\n",
    "    clf.fit(x_train, y_train)\n",
    "    y_pred = clf.predict(x_test)\n",
    "    joblib.dump(clf, 'logiovrsam'+str(i)+'.pkl')\n",
    "    score = accuracy_score(y_test, y_pred)\n",
    "    rep=classification_report(y_test, y_pred, target_names=df.genre.unique())\n",
    "    logirep.append(rep)\n",
    "    dat={'Actual':y_test,'pred':y_pred}\n",
    "    resdf=pd.DataFrame(dat)\n",
    "    resdf.to_csv('reslogiovrsam'+str(i)+'.csv')\n",
    "    logiscore.append(score)\n",
    "    print(score)"
   ]
  },
  {
   "cell_type": "markdown",
   "metadata": {
    "colab_type": "text",
    "id": "GgCjTGmc8XHQ"
   },
   "source": [
    "Creating a file to write our classification report for our 5 results of Cross validation models and computing the average accuracy and writing them into the file.\n",
    "\n",
    "The classification report is computed by using the results csv files containing the actual and predicted values of ech split."
   ]
  },
  {
   "cell_type": "code",
   "execution_count": null,
   "metadata": {
    "colab": {},
    "colab_type": "code",
    "id": "qKZtHQFm5haw"
   },
   "outputs": [],
   "source": [
    "f=open(\"logioversamp_results.txt\",\"a\")\n",
    "\n",
    "for i in range(1,6):\n",
    "    f.write(\"\\n report\"+str(i)+\":\\n\")\n",
    "    dfr=pd.read_csv(\"reslogiovrsam\"+str(i)+\".csv\")\n",
    "    dfr.drop(dfr.columns[dfr.columns.str.contains('unnamed',case = False)],axis = 1, inplace = True)\n",
    "    f.write(classification_report(dfr.Actual, dfr.pred, target_names=df.genre.unique()))\n",
    "f.write(\"\\nThe average score for this model is\")\n",
    "f.write(str(mean(logiscore)))\n",
    "f.close()"
   ]
  },
  {
   "cell_type": "markdown",
   "metadata": {
    "colab_type": "text",
    "id": "mrxnogI78iUZ"
   },
   "source": [
    "Declaring the logistic model with multinomial as parameter specifying that we are trying to solve a multi classification problem and sag optimiazation is used as it is best for large datasets and have faster convergence."
   ]
  },
  {
   "cell_type": "code",
   "execution_count": null,
   "metadata": {
    "colab": {},
    "colab_type": "code",
    "id": "4VumUue_5ha5"
   },
   "outputs": [],
   "source": [
    "finalmod = LogisticRegression(multi_class='multinomial',solver='sag')"
   ]
  },
  {
   "cell_type": "markdown",
   "metadata": {
    "colab_type": "text",
    "id": "ROb0uGvc86vi"
   },
   "source": [
    "Perform tfidf vectorization to extraxt tfidf matrix on whole training data and use the fitted vectorizer to transform the test data to tfidf matrix.\n",
    "\n",
    "Tfidf matrix considers:\n",
    "*   Removing stop words\n",
    "*   Considering both unigrams and bigrams\n",
    "\n"
   ]
  },
  {
   "cell_type": "code",
   "execution_count": null,
   "metadata": {
    "colab": {},
    "colab_type": "code",
    "id": "THiOcGvb5ha6"
   },
   "outputs": [],
   "source": [
    "tfidf = TfidfVectorizer(stop_words=\"english\",ngram_range=(1,2))\n",
    "trainvec = tfidf.fit_transform(lyrics)\n",
    "testvec = tfidf.transform(Xtest)"
   ]
  },
  {
   "cell_type": "markdown",
   "metadata": {
    "colab_type": "text",
    "id": "fukS8Ynr9AFA"
   },
   "source": [
    "Fitting the model."
   ]
  },
  {
   "cell_type": "code",
   "execution_count": null,
   "metadata": {
    "colab": {
     "base_uri": "https://localhost:8080/",
     "height": 102
    },
    "colab_type": "code",
    "executionInfo": {
     "elapsed": 108146,
     "status": "ok",
     "timestamp": 1589187483389,
     "user": {
      "displayName": "Srikaran Elakurthy",
      "photoUrl": "",
      "userId": "11196471557604689597"
     },
     "user_tz": 240
    },
    "id": "5srn70bx5ha7",
    "outputId": "98cea922-4ac1-44c6-d9d5-1927b1fcb840"
   },
   "outputs": [
    {
     "data": {
      "text/plain": [
       "LogisticRegression(C=1.0, class_weight=None, dual=False, fit_intercept=True,\n",
       "                   intercept_scaling=1, l1_ratio=None, max_iter=100,\n",
       "                   multi_class='multinomial', n_jobs=None, penalty='l2',\n",
       "                   random_state=None, solver='sag', tol=0.0001, verbose=0,\n",
       "                   warm_start=False)"
      ]
     },
     "execution_count": 12,
     "metadata": {
      "tags": []
     },
     "output_type": "execute_result"
    }
   ],
   "source": [
    "finalmod.fit(trainvec, genre)\n",
    "\n"
   ]
  },
  {
   "cell_type": "markdown",
   "metadata": {
    "colab_type": "text",
    "id": "hxp_2YaI9C4u"
   },
   "source": [
    "Storing the model"
   ]
  },
  {
   "cell_type": "code",
   "execution_count": null,
   "metadata": {
    "colab": {
     "base_uri": "https://localhost:8080/",
     "height": 34
    },
    "colab_type": "code",
    "executionInfo": {
     "elapsed": 1894,
     "status": "ok",
     "timestamp": 1589187500891,
     "user": {
      "displayName": "Srikaran Elakurthy",
      "photoUrl": "",
      "userId": "11196471557604689597"
     },
     "user_tz": 240
    },
    "id": "YmE5WQeN5ha9",
    "outputId": "eae444cc-7831-4cd2-bdc7-df8526f954fb"
   },
   "outputs": [
    {
     "data": {
      "text/plain": [
       "['/content/drive/My Drive/OverSampling/Final_models/logiovrsam.pkl']"
      ]
     },
     "execution_count": 14,
     "metadata": {
      "tags": []
     },
     "output_type": "execute_result"
    }
   ],
   "source": [
    "joblib.dump(finalmod, 'Final_models/logiovrsam.pkl')"
   ]
  },
  {
   "cell_type": "markdown",
   "metadata": {
    "colab_type": "text",
    "id": "3aBQapdt9Gl0"
   },
   "source": [
    "Predicting the test data using test tfidf matrix"
   ]
  },
  {
   "cell_type": "code",
   "execution_count": null,
   "metadata": {
    "colab": {},
    "colab_type": "code",
    "id": "R7ODc9cA5ha-"
   },
   "outputs": [],
   "source": [
    "y_pred = finalmod.predict(testvec)"
   ]
  },
  {
   "cell_type": "markdown",
   "metadata": {
    "colab_type": "text",
    "id": "rm33YBkm9LKN"
   },
   "source": [
    "Storing the results into a csv file with actual genre and predicted genre."
   ]
  },
  {
   "cell_type": "code",
   "execution_count": null,
   "metadata": {
    "colab": {},
    "colab_type": "code",
    "id": "wGoQyIZF5ha_"
   },
   "outputs": [],
   "source": [
    "dat={'Actual':Ytest,'pred':y_pred}\n",
    "resdf=pd.DataFrame(dat)\n",
    "resdf.to_csv('finalreslogiovrsam.csv')"
   ]
  },
  {
   "cell_type": "markdown",
   "metadata": {
    "colab_type": "text",
    "id": "Tg1xNyKu9Seh"
   },
   "source": [
    "Computing the classification report and writing the results into a file."
   ]
  },
  {
   "cell_type": "code",
   "execution_count": null,
   "metadata": {
    "colab": {},
    "colab_type": "code",
    "id": "7qVR4mx65hbA"
   },
   "outputs": [],
   "source": [
    "f=open(\"finallogioversamp_results.txt\",\"a\")\n",
    "f.write(\"\\n report:\\n\")\n",
    "f.write(classification_report(Ytest, y_pred, target_names=Ytest.unique()))\n",
    "f.close()"
   ]
  },
  {
   "cell_type": "code",
   "execution_count": null,
   "metadata": {
    "colab": {},
    "colab_type": "code",
    "id": "_-LCqVJ75hbC"
   },
   "outputs": [],
   "source": [
    "rockweights=finalmod.coef_[10]"
   ]
  },
  {
   "cell_type": "code",
   "execution_count": null,
   "metadata": {
    "colab": {},
    "colab_type": "code",
    "id": "mP8yhaTu5hbD",
    "outputId": "d407ed49-fb92-452b-da4c-822aabf25403"
   },
   "outputs": [
    {
     "data": {
      "text/plain": [
       "array([ 0.02971665,  0.03777732, -0.06487624, ..., -0.01388786,\n",
       "       -0.00923136, -0.00923136])"
      ]
     },
     "execution_count": 148,
     "metadata": {
      "tags": []
     },
     "output_type": "execute_result"
    }
   ],
   "source": [
    "rockweights"
   ]
  },
  {
   "cell_type": "code",
   "execution_count": null,
   "metadata": {
    "colab": {},
    "colab_type": "code",
    "id": "DCymWk6V5hbE"
   },
   "outputs": [],
   "source": [
    "redweights=rockweights*0.5"
   ]
  },
  {
   "cell_type": "code",
   "execution_count": null,
   "metadata": {
    "colab": {},
    "colab_type": "code",
    "id": "opIOKNEC5hbF",
    "outputId": "003e4e5d-4212-4914-8269-1684a155cfb2"
   },
   "outputs": [
    {
     "data": {
      "text/plain": [
       "array([ 0.01485832,  0.01888866, -0.03243812, ..., -0.00694393,\n",
       "       -0.00461568, -0.00461568])"
      ]
     },
     "execution_count": 150,
     "metadata": {
      "tags": []
     },
     "output_type": "execute_result"
    }
   ],
   "source": [
    "redweights"
   ]
  },
  {
   "cell_type": "code",
   "execution_count": null,
   "metadata": {
    "colab": {},
    "colab_type": "code",
    "id": "IGri5i1P5hbG"
   },
   "outputs": [],
   "source": [
    "finalmod.coef_[10]=redweights"
   ]
  },
  {
   "cell_type": "code",
   "execution_count": null,
   "metadata": {
    "colab": {},
    "colab_type": "code",
    "id": "_pSI8Y615hbH",
    "outputId": "6a5a2612-5363-41f7-cd23-7e42c688dce1"
   },
   "outputs": [
    {
     "data": {
      "text/plain": [
       "array([ 0.01188612,  0.01511085, -0.02595038, ..., -0.00555515,\n",
       "       -0.0036925 , -0.0036925 ])"
      ]
     },
     "execution_count": 140,
     "metadata": {
      "tags": []
     },
     "output_type": "execute_result"
    }
   ],
   "source": [
    "finalmod.coef_[10]"
   ]
  },
  {
   "cell_type": "code",
   "execution_count": null,
   "metadata": {
    "colab": {},
    "colab_type": "code",
    "id": "P9wB-Flc5hbH",
    "outputId": "320bc856-92d1-4b8e-b8fb-a4d25eb22b90"
   },
   "outputs": [
    {
     "data": {
      "text/plain": [
       "array([[-0.0329352 , -0.00102394, -0.0083676 , ..., -0.00342399,\n",
       "        -0.00108113, -0.00108113],\n",
       "       [ 0.07502783, -0.00866654, -0.05368631, ..., -0.01038293,\n",
       "        -0.0047271 , -0.0047271 ],\n",
       "       [-0.02279198, -0.00064929, -0.00612491, ...,  0.06577774,\n",
       "        -0.00137682, -0.00137682],\n",
       "       ...,\n",
       "       [-0.0893871 , -0.00848002, -0.02981261, ..., -0.00890366,\n",
       "         0.02441166,  0.02441166],\n",
       "       [ 0.16407221, -0.00300949,  0.23828006, ..., -0.00235363,\n",
       "        -0.00237978, -0.00237978],\n",
       "       [ 0.01485832,  0.01888866, -0.03243812, ..., -0.00694393,\n",
       "        -0.00461568, -0.00461568]])"
      ]
     },
     "execution_count": 152,
     "metadata": {
      "tags": []
     },
     "output_type": "execute_result"
    }
   ],
   "source": [
    "finalmod.coef_"
   ]
  },
  {
   "cell_type": "code",
   "execution_count": null,
   "metadata": {
    "colab": {},
    "colab_type": "code",
    "id": "Sv0lEHnt5hbI"
   },
   "outputs": [],
   "source": [
    "y_pred = finalmod.predict(testvec)"
   ]
  },
  {
   "cell_type": "code",
   "execution_count": null,
   "metadata": {
    "colab": {},
    "colab_type": "code",
    "id": "6Z8-OGtm5hbJ"
   },
   "outputs": [],
   "source": [
    "dat={'Actual':Ytest,'pred':y_pred}\n",
    "resdf=pd.DataFrame(dat)\n",
    "resdf.to_csv('finalreslogiovrsam_rockreduced.csv')"
   ]
  },
  {
   "cell_type": "code",
   "execution_count": null,
   "metadata": {
    "colab": {},
    "colab_type": "code",
    "id": "us8c6_ST5hbK"
   },
   "outputs": [],
   "source": [
    "f=open(\"finallogioversamp_results_rockreduced.txt\",\"a\")\n",
    "f.write(\"\\n report:\\n\")\n",
    "f.write(classification_report(Ytest, y_pred, target_names=df.genre.unique()))\n",
    "f.close()"
   ]
  },
  {
   "cell_type": "code",
   "execution_count": null,
   "metadata": {
    "colab": {},
    "colab_type": "code",
    "id": "aq7Q2maC5hbL",
    "outputId": "67c46f1f-efce-4cb7-8bc7-9808ee9f182e"
   },
   "outputs": [
    {
     "data": {
      "text/plain": [
       "['finallogiovrsam_wholerock5.pkl']"
      ]
     },
     "execution_count": 156,
     "metadata": {
      "tags": []
     },
     "output_type": "execute_result"
    }
   ],
   "source": [
    "joblib.dump(clf, 'finallogiovrsam_wholerock'+str(i)+'.pkl')"
   ]
  },
  {
   "cell_type": "markdown",
   "metadata": {
    "colab_type": "text",
    "id": "FeP35DIz9Zfs"
   },
   "source": [
    "Selecting only rock records from train dataset"
   ]
  },
  {
   "cell_type": "code",
   "execution_count": null,
   "metadata": {
    "colab": {},
    "colab_type": "code",
    "id": "m0EQTI_m5hbM"
   },
   "outputs": [],
   "source": [
    "Rockdf=traindf[traindf['genre']=='Rock']"
   ]
  },
  {
   "cell_type": "markdown",
   "metadata": {
    "colab_type": "text",
    "id": "wCfYaTBa9gQW"
   },
   "source": [
    "Resetting the index "
   ]
  },
  {
   "cell_type": "code",
   "execution_count": null,
   "metadata": {
    "colab": {},
    "colab_type": "code",
    "id": "6D_VoNRT5hbN"
   },
   "outputs": [],
   "source": [
    "Rockdf.reset_index(drop=True,inplace=True)"
   ]
  },
  {
   "cell_type": "code",
   "execution_count": null,
   "metadata": {
    "colab": {
     "base_uri": "https://localhost:8080/",
     "height": 204
    },
    "colab_type": "code",
    "executionInfo": {
     "elapsed": 1003,
     "status": "ok",
     "timestamp": 1589189158552,
     "user": {
      "displayName": "Srikaran Elakurthy",
      "photoUrl": "",
      "userId": "11196471557604689597"
     },
     "user_tz": 240
    },
    "id": "8ec6fsko5hbO",
    "outputId": "10e7bc37-5ef9-4177-ffb3-d2d7dcd925b5"
   },
   "outputs": [
    {
     "data": {
      "text/html": [
       "<div>\n",
       "<style scoped>\n",
       "    .dataframe tbody tr th:only-of-type {\n",
       "        vertical-align: middle;\n",
       "    }\n",
       "\n",
       "    .dataframe tbody tr th {\n",
       "        vertical-align: top;\n",
       "    }\n",
       "\n",
       "    .dataframe thead th {\n",
       "        text-align: right;\n",
       "    }\n",
       "</style>\n",
       "<table border=\"1\" class=\"dataframe\">\n",
       "  <thead>\n",
       "    <tr style=\"text-align: right;\">\n",
       "      <th></th>\n",
       "      <th>lyrics</th>\n",
       "      <th>genre</th>\n",
       "    </tr>\n",
       "  </thead>\n",
       "  <tbody>\n",
       "    <tr>\n",
       "      <th>0</th>\n",
       "      <td>i remeb when i saw you at the diner s yet my h...</td>\n",
       "      <td>Rock</td>\n",
       "    </tr>\n",
       "    <tr>\n",
       "      <th>1</th>\n",
       "      <td>i read the paper thi morn i saw your photograp...</td>\n",
       "      <td>Rock</td>\n",
       "    </tr>\n",
       "    <tr>\n",
       "      <th>2</th>\n",
       "      <td>well i ve guess your name and i m sure you kno...</td>\n",
       "      <td>Rock</td>\n",
       "    </tr>\n",
       "    <tr>\n",
       "      <th>3</th>\n",
       "      <td>shame shame shame ooooh i i i i shame shame sh...</td>\n",
       "      <td>Rock</td>\n",
       "    </tr>\n",
       "    <tr>\n",
       "      <th>4</th>\n",
       "      <td>i d realli like to see you now in your father ...</td>\n",
       "      <td>Rock</td>\n",
       "    </tr>\n",
       "  </tbody>\n",
       "</table>\n",
       "</div>"
      ],
      "text/plain": [
       "                                              lyrics genre\n",
       "0  i remeb when i saw you at the diner s yet my h...  Rock\n",
       "1  i read the paper thi morn i saw your photograp...  Rock\n",
       "2  well i ve guess your name and i m sure you kno...  Rock\n",
       "3  shame shame shame ooooh i i i i shame shame sh...  Rock\n",
       "4  i d realli like to see you now in your father ...  Rock"
      ]
     },
     "execution_count": 21,
     "metadata": {
      "tags": []
     },
     "output_type": "execute_result"
    }
   ],
   "source": [
    "Rockdf.head()"
   ]
  },
  {
   "cell_type": "code",
   "execution_count": null,
   "metadata": {
    "colab": {},
    "colab_type": "code",
    "id": "QxaREIVC5hbP"
   },
   "outputs": [],
   "source": [
    "rocklyr=Rockdf['lyrics']\n",
    "rockgenre=Rockdf['genre']"
   ]
  },
  {
   "cell_type": "markdown",
   "metadata": {
    "colab_type": "text",
    "id": "V7Q8Wob49jRd"
   },
   "source": [
    "Perform tfidf vectorization to extraxt tfidf matrix on Rock training data and \n",
    "Tfidf matrix considers:\n",
    "*   Removing stop words\n",
    "*   Considering both unigrams and bigrams\n",
    "\n"
   ]
  },
  {
   "cell_type": "code",
   "execution_count": null,
   "metadata": {
    "colab": {},
    "colab_type": "code",
    "id": "zyOq3qQC5hbQ"
   },
   "outputs": [],
   "source": [
    "rtfidf = TfidfVectorizer(stop_words=\"english\",ngram_range=(1,2))\n",
    "rtrainvec = rtfidf.fit_transform(rocklyr)"
   ]
  },
  {
   "cell_type": "markdown",
   "metadata": {
    "colab_type": "text",
    "id": "N93hLAS_9wg0"
   },
   "source": [
    "Selecting all the records except the rock genre from the training data"
   ]
  },
  {
   "cell_type": "code",
   "execution_count": null,
   "metadata": {
    "colab": {},
    "colab_type": "code",
    "id": "sFSygtLc5hbQ"
   },
   "outputs": [],
   "source": [
    "Allnorockdf=traindf[traindf['genre']!='Rock']"
   ]
  },
  {
   "cell_type": "code",
   "execution_count": null,
   "metadata": {
    "colab": {},
    "colab_type": "code",
    "id": "F1F-lq0v5hbR"
   },
   "outputs": [],
   "source": [
    "Allnorocklyr=Allnorockdf['lyrics']\n",
    "Allnorockgenre=Allnorockdf['genre']"
   ]
  },
  {
   "cell_type": "markdown",
   "metadata": {
    "colab_type": "text",
    "id": "51cMDM4L93ry"
   },
   "source": [
    "Perform tfidf vectorization to extraxt tfidf matrix on all genres except rock from training data and \n",
    "Tfidf matrix considers:\n",
    "*   Removing stop words\n",
    "*   Considering both unigrams and bigrams\n",
    "\n"
   ]
  },
  {
   "cell_type": "code",
   "execution_count": null,
   "metadata": {
    "colab": {},
    "colab_type": "code",
    "id": "N5DCtAWW5hbS"
   },
   "outputs": [],
   "source": [
    "Allnorocktfidf = TfidfVectorizer(stop_words=\"english\",ngram_range=(1,2))\n",
    "Allnorockvec = Allnorocktfidf.fit_transform(Allnorocklyr)"
   ]
  },
  {
   "cell_type": "markdown",
   "metadata": {
    "colab_type": "text",
    "id": "15vYh1wm-Ag0"
   },
   "source": [
    "Extracting the rock dataset ngrams"
   ]
  },
  {
   "cell_type": "code",
   "execution_count": null,
   "metadata": {
    "colab": {},
    "colab_type": "code",
    "id": "cPdWXmkP5hbT"
   },
   "outputs": [],
   "source": [
    "rlist=rtfidf.get_feature_names()"
   ]
  },
  {
   "cell_type": "markdown",
   "metadata": {
    "colab_type": "text",
    "id": "yCEj9ZH9-FIv"
   },
   "source": [
    "Extracting the ngrams of all genres except the rock"
   ]
  },
  {
   "cell_type": "code",
   "execution_count": null,
   "metadata": {
    "colab": {},
    "colab_type": "code",
    "id": "N4BW1-_x5hbT"
   },
   "outputs": [],
   "source": [
    "allnorcklist=Allnorocktfidf.get_feature_names()"
   ]
  },
  {
   "cell_type": "markdown",
   "metadata": {
    "colab_type": "text",
    "id": "XpQyvTec-KPw"
   },
   "source": [
    "Extracting the ngrams of whole training data"
   ]
  },
  {
   "cell_type": "code",
   "execution_count": null,
   "metadata": {
    "colab": {},
    "colab_type": "code",
    "id": "CGCE8Wm35hbU"
   },
   "outputs": [],
   "source": [
    "tfidflist=tfidf.get_feature_names()"
   ]
  },
  {
   "cell_type": "markdown",
   "metadata": {
    "colab_type": "text",
    "id": "cVPJmAD--Rct"
   },
   "source": [
    "Finding common ngrams between the rock ngrams and all genres except the rock"
   ]
  },
  {
   "cell_type": "code",
   "execution_count": null,
   "metadata": {
    "colab": {},
    "colab_type": "code",
    "id": "rzOF0VS-5hbV"
   },
   "outputs": [],
   "source": [
    "both = set(allnorcklist).intersection(rlist)"
   ]
  },
  {
   "cell_type": "code",
   "execution_count": null,
   "metadata": {
    "colab": {
     "base_uri": "https://localhost:8080/",
     "height": 34
    },
    "colab_type": "code",
    "executionInfo": {
     "elapsed": 1205,
     "status": "ok",
     "timestamp": 1589189443653,
     "user": {
      "displayName": "Srikaran Elakurthy",
      "photoUrl": "",
      "userId": "11196471557604689597"
     },
     "user_tz": 240
    },
    "id": "Z2RV5DzR5hbW",
    "outputId": "dbdf4784-dfc7-4a0d-f3ce-6bfe40af5f44"
   },
   "outputs": [
    {
     "data": {
      "text/plain": [
       "3205999"
      ]
     },
     "execution_count": 32,
     "metadata": {
      "tags": []
     },
     "output_type": "execute_result"
    }
   ],
   "source": [
    "len(allnorcklist)"
   ]
  },
  {
   "cell_type": "code",
   "execution_count": null,
   "metadata": {
    "colab": {
     "base_uri": "https://localhost:8080/",
     "height": 34
    },
    "colab_type": "code",
    "executionInfo": {
     "elapsed": 386,
     "status": "ok",
     "timestamp": 1589189446414,
     "user": {
      "displayName": "Srikaran Elakurthy",
      "photoUrl": "",
      "userId": "11196471557604689597"
     },
     "user_tz": 240
    },
    "id": "9dtWH6Zk5hbW",
    "outputId": "ecdb7f9e-7e6c-4040-eddf-dcb199809ea4"
   },
   "outputs": [
    {
     "data": {
      "text/plain": [
       "list"
      ]
     },
     "execution_count": 33,
     "metadata": {
      "tags": []
     },
     "output_type": "execute_result"
    }
   ],
   "source": [
    "type(allnorcklist)"
   ]
  },
  {
   "cell_type": "code",
   "execution_count": null,
   "metadata": {
    "colab": {
     "base_uri": "https://localhost:8080/",
     "height": 34
    },
    "colab_type": "code",
    "executionInfo": {
     "elapsed": 884,
     "status": "ok",
     "timestamp": 1589189449902,
     "user": {
      "displayName": "Srikaran Elakurthy",
      "photoUrl": "",
      "userId": "11196471557604689597"
     },
     "user_tz": 240
    },
    "id": "h5C-f-zn5hbX",
    "outputId": "656827aa-363d-4414-97de-5c67c771b9ba"
   },
   "outputs": [
    {
     "data": {
      "text/plain": [
       "3731150"
      ]
     },
     "execution_count": 34,
     "metadata": {
      "tags": []
     },
     "output_type": "execute_result"
    }
   ],
   "source": [
    "len(tfidflist)"
   ]
  },
  {
   "cell_type": "code",
   "execution_count": null,
   "metadata": {
    "colab": {},
    "colab_type": "code",
    "id": "UMg0Os0S5hbY"
   },
   "outputs": [],
   "source": [
    "l=list(both)"
   ]
  },
  {
   "cell_type": "code",
   "execution_count": null,
   "metadata": {
    "colab": {
     "base_uri": "https://localhost:8080/",
     "height": 34
    },
    "colab_type": "code",
    "executionInfo": {
     "elapsed": 353,
     "status": "ok",
     "timestamp": 1589189470697,
     "user": {
      "displayName": "Srikaran Elakurthy",
      "photoUrl": "",
      "userId": "11196471557604689597"
     },
     "user_tz": 240
    },
    "id": "8tc4GkBG5hbZ",
    "outputId": "2738ed1a-011f-4200-9276-ffa3856869f5"
   },
   "outputs": [
    {
     "data": {
      "text/plain": [
       "547094"
      ]
     },
     "execution_count": 36,
     "metadata": {
      "tags": []
     },
     "output_type": "execute_result"
    }
   ],
   "source": [
    "len(l)"
   ]
  },
  {
   "cell_type": "markdown",
   "metadata": {
    "colab_type": "text",
    "id": "_I_BLrgL-atO"
   },
   "source": [
    "Finding the common ngrams between the abovengrams(found out from above intersection ) and the ngrams of whole training data."
   ]
  },
  {
   "cell_type": "code",
   "execution_count": null,
   "metadata": {
    "colab": {},
    "colab_type": "code",
    "id": "0zCwkY455hba"
   },
   "outputs": [],
   "source": [
    "intersec2 = set(tfidflist).intersection(l)"
   ]
  },
  {
   "cell_type": "code",
   "execution_count": null,
   "metadata": {
    "colab": {
     "base_uri": "https://localhost:8080/",
     "height": 34
    },
    "colab_type": "code",
    "executionInfo": {
     "elapsed": 351,
     "status": "ok",
     "timestamp": 1589189479414,
     "user": {
      "displayName": "Srikaran Elakurthy",
      "photoUrl": "",
      "userId": "11196471557604689597"
     },
     "user_tz": 240
    },
    "id": "IlwLsxyx5hbb",
    "outputId": "f689c3e4-e45a-4c8e-b882-faaf5e003e85"
   },
   "outputs": [
    {
     "data": {
      "text/plain": [
       "547094"
      ]
     },
     "execution_count": 38,
     "metadata": {
      "tags": []
     },
     "output_type": "execute_result"
    }
   ],
   "source": [
    "len(intersec2)"
   ]
  },
  {
   "cell_type": "code",
   "execution_count": null,
   "metadata": {
    "colab": {},
    "colab_type": "code",
    "id": "JA9k7Xe35hbb"
   },
   "outputs": [],
   "source": [
    "i2=list(intersec2)"
   ]
  },
  {
   "cell_type": "code",
   "execution_count": null,
   "metadata": {
    "colab": {},
    "colab_type": "code",
    "id": "G7xnwrrW5hbc"
   },
   "outputs": [],
   "source": [
    "s=np.array(tfidflist)\n",
    "k=np.array(i2)"
   ]
  },
  {
   "cell_type": "markdown",
   "metadata": {
    "colab_type": "text",
    "id": "5-ANMvmG-yf8"
   },
   "source": [
    "Find the indexes of common ngrams(intersection of whole traindata ngrams and the intersection set of the rock and all except rock) from the whole training data ."
   ]
  },
  {
   "cell_type": "code",
   "execution_count": null,
   "metadata": {
    "colab": {},
    "colab_type": "code",
    "id": "ytTe9Jam5hbd"
   },
   "outputs": [],
   "source": [
    "Iindex=np.where(np.isin(s,k))"
   ]
  },
  {
   "cell_type": "markdown",
   "metadata": {
    "colab_type": "text",
    "id": "99AjsZj9_dM0"
   },
   "source": []
  },
  {
   "cell_type": "markdown",
   "metadata": {
    "colab_type": "text",
    "id": "N0a_zqvr_iUa"
   },
   "source": [
    "Copying the original rock weights into orrkweights variable."
   ]
  },
  {
   "cell_type": "code",
   "execution_count": null,
   "metadata": {
    "colab": {},
    "colab_type": "code",
    "id": "yH0-Pwxa5hbg"
   },
   "outputs": [],
   "source": [
    "orrkweights=finalmod.coef_[10].copy()"
   ]
  },
  {
   "cell_type": "code",
   "execution_count": null,
   "metadata": {
    "colab": {
     "base_uri": "https://localhost:8080/",
     "height": 51
    },
    "colab_type": "code",
    "executionInfo": {
     "elapsed": 934,
     "status": "ok",
     "timestamp": 1589189525063,
     "user": {
      "displayName": "Srikaran Elakurthy",
      "photoUrl": "",
      "userId": "11196471557604689597"
     },
     "user_tz": 240
    },
    "id": "sJzekrTs5hbh",
    "outputId": "20ad7165-d249-4275-bdbb-946afe6d1bfd"
   },
   "outputs": [
    {
     "data": {
      "text/plain": [
       "array([-0.0581899 , -0.00016972, -0.06508028, ..., -0.0079137 ,\n",
       "       -0.01236094, -0.01236094])"
      ]
     },
     "execution_count": 45,
     "metadata": {
      "tags": []
     },
     "output_type": "execute_result"
    }
   ],
   "source": [
    "orrkweights"
   ]
  },
  {
   "cell_type": "markdown",
   "metadata": {
    "colab_type": "text",
    "id": "-461-bO-_qZU"
   },
   "source": [
    "This cell is run when we want to get back to the original rock weights in our model."
   ]
  },
  {
   "cell_type": "code",
   "execution_count": null,
   "metadata": {
    "colab": {},
    "colab_type": "code",
    "id": "4_8VpPTk5hbi"
   },
   "outputs": [],
   "source": [
    "finalmod.coef_[10]=orrkweights.copy()"
   ]
  },
  {
   "cell_type": "code",
   "execution_count": null,
   "metadata": {
    "colab": {
     "base_uri": "https://localhost:8080/",
     "height": 51
    },
    "colab_type": "code",
    "executionInfo": {
     "elapsed": 926,
     "status": "ok",
     "timestamp": 1589189533359,
     "user": {
      "displayName": "Srikaran Elakurthy",
      "photoUrl": "",
      "userId": "11196471557604689597"
     },
     "user_tz": 240
    },
    "id": "XL5dtN8-5hbi",
    "outputId": "5e48293a-5e1a-4c77-ad58-3aa800fffcb6"
   },
   "outputs": [
    {
     "data": {
      "text/plain": [
       "array([-0.0581899 , -0.00016972, -0.06508028, ..., -0.0079137 ,\n",
       "       -0.01236094, -0.01236094])"
      ]
     },
     "execution_count": 47,
     "metadata": {
      "tags": []
     },
     "output_type": "execute_result"
    }
   ],
   "source": [
    "orrkweights"
   ]
  },
  {
   "cell_type": "code",
   "execution_count": null,
   "metadata": {
    "colab": {},
    "colab_type": "code",
    "id": "vFzNICu_5hbj"
   },
   "outputs": [],
   "source": [
    "rkweights=finalmod.coef_[10]"
   ]
  },
  {
   "cell_type": "code",
   "execution_count": null,
   "metadata": {
    "colab": {
     "base_uri": "https://localhost:8080/",
     "height": 51
    },
    "colab_type": "code",
    "executionInfo": {
     "elapsed": 646,
     "status": "ok",
     "timestamp": 1589189541856,
     "user": {
      "displayName": "Srikaran Elakurthy",
      "photoUrl": "",
      "userId": "11196471557604689597"
     },
     "user_tz": 240
    },
    "id": "qSEs6h6v5hbk",
    "outputId": "00259a4f-ec01-4f7c-a24b-b88cfe557a8d"
   },
   "outputs": [
    {
     "data": {
      "text/plain": [
       "array([-0.0581899 , -0.00016972, -0.06508028, ..., -0.0079137 ,\n",
       "       -0.01236094, -0.01236094])"
      ]
     },
     "execution_count": 49,
     "metadata": {
      "tags": []
     },
     "output_type": "execute_result"
    }
   ],
   "source": [
    "rkweights"
   ]
  },
  {
   "cell_type": "code",
   "execution_count": null,
   "metadata": {
    "colab": {},
    "colab_type": "code",
    "id": "WEDPR58L5hbl"
   },
   "outputs": [],
   "source": [
    "rw=list(rkweights)"
   ]
  },
  {
   "cell_type": "markdown",
   "metadata": {
    "colab_type": "text",
    "id": "Rf6z1hPPACWW"
   },
   "source": [
    "Find the rock weights of the common ngrams and reducing by 20%"
   ]
  },
  {
   "cell_type": "code",
   "execution_count": null,
   "metadata": {
    "colab": {
     "base_uri": "https://localhost:8080/",
     "height": 51
    },
    "colab_type": "code",
    "executionInfo": {
     "elapsed": 810,
     "status": "ok",
     "timestamp": 1589189552164,
     "user": {
      "displayName": "Srikaran Elakurthy",
      "photoUrl": "",
      "userId": "11196471557604689597"
     },
     "user_tz": 240
    },
    "id": "Fcke18DM5hbm",
    "outputId": "c72d45a8-53ec-49a5-ea33-424f80850c7e"
   },
   "outputs": [
    {
     "name": "stdout",
     "output_type": "stream",
     "text": [
      "[-0.00581899 -0.00016972 -0.06508028 ... -0.0079137  -0.01236094\n",
      " -0.01236094]\n"
     ]
    }
   ],
   "source": [
    "\n",
    "list(map(lambda x,y:rkweights.__setitem__(x,rkweights[x]*0.2),list(Iindex[0]),rkweights))\n",
    "print(rkweights)"
   ]
  },
  {
   "cell_type": "code",
   "execution_count": null,
   "metadata": {
    "colab": {
     "base_uri": "https://localhost:8080/",
     "height": 51
    },
    "colab_type": "code",
    "executionInfo": {
     "elapsed": 365,
     "status": "ok",
     "timestamp": 1589189555783,
     "user": {
      "displayName": "Srikaran Elakurthy",
      "photoUrl": "",
      "userId": "11196471557604689597"
     },
     "user_tz": 240
    },
    "id": "idA2xk5H5hbn",
    "outputId": "43667eb9-5bae-4fa8-8e86-34a08bc561ba"
   },
   "outputs": [
    {
     "data": {
      "text/plain": [
       "array([-0.00581899, -0.00016972, -0.06508028, ..., -0.0079137 ,\n",
       "       -0.01236094, -0.01236094])"
      ]
     },
     "execution_count": 52,
     "metadata": {
      "tags": []
     },
     "output_type": "execute_result"
    }
   ],
   "source": [
    "np.array(rkweights)"
   ]
  },
  {
   "cell_type": "markdown",
   "metadata": {
    "colab_type": "text",
    "id": "9cSIZ7O4AUdZ"
   },
   "source": [
    "Initializing the modified weights to our model"
   ]
  },
  {
   "cell_type": "code",
   "execution_count": null,
   "metadata": {
    "colab": {},
    "colab_type": "code",
    "id": "L7k6W1zW5hbo"
   },
   "outputs": [],
   "source": [
    "finalmod.coef_[10]=np.array(rkweights)"
   ]
  },
  {
   "cell_type": "markdown",
   "metadata": {
    "colab_type": "text",
    "id": "lok0Rf6MAZAg"
   },
   "source": [
    "Predicting the testset with the modified weights"
   ]
  },
  {
   "cell_type": "code",
   "execution_count": null,
   "metadata": {
    "colab": {},
    "colab_type": "code",
    "id": "tUldFPyV5hbo"
   },
   "outputs": [],
   "source": [
    "y_pred = finalmod.predict(testvec)"
   ]
  },
  {
   "cell_type": "markdown",
   "metadata": {
    "colab_type": "text",
    "id": "Vagvis7lAcyt"
   },
   "source": [
    "Storing the results which consist of Actual and predicted values into a csv file."
   ]
  },
  {
   "cell_type": "code",
   "execution_count": null,
   "metadata": {
    "colab": {},
    "colab_type": "code",
    "id": "vK6ddV0O5hbp"
   },
   "outputs": [],
   "source": [
    "dat={'Actual':Ytest,'pred':y_pred}\n",
    "resdf=pd.DataFrame(dat)\n",
    "resdf.to_csv('finalreslogiovrsam_rockreduced10.csv')"
   ]
  },
  {
   "cell_type": "markdown",
   "metadata": {
    "colab_type": "text",
    "id": "RrY0PE3YAmXG"
   },
   "source": [
    "Writing the classification report into a text file"
   ]
  },
  {
   "cell_type": "code",
   "execution_count": null,
   "metadata": {
    "colab": {},
    "colab_type": "code",
    "id": "HFMqRbr-5hbq"
   },
   "outputs": [],
   "source": [
    "f=open(\"finallogioversamp_intersect_results_rockreduced10.txt\",\"a\")\n",
    "f.write(\"\\n report:\\n\")\n",
    "f.write(classification_report(Ytest, y_pred, target_names=Ytest.unique()))\n",
    "f.close()"
   ]
  },
  {
   "cell_type": "markdown",
   "metadata": {
    "colab_type": "text",
    "id": "p7h5sa3hAzXH"
   },
   "source": [
    "Storing the model into a pickle file"
   ]
  },
  {
   "cell_type": "code",
   "execution_count": null,
   "metadata": {
    "colab": {
     "base_uri": "https://localhost:8080/",
     "height": 34
    },
    "colab_type": "code",
    "executionInfo": {
     "elapsed": 1698,
     "status": "ok",
     "timestamp": 1589189733336,
     "user": {
      "displayName": "Srikaran Elakurthy",
      "photoUrl": "",
      "userId": "11196471557604689597"
     },
     "user_tz": 240
    },
    "id": "9NO2u1Cc5hbt",
    "outputId": "b128c4e2-f246-4b0d-c047-65b1cc0eab6b"
   },
   "outputs": [
    {
     "data": {
      "text/plain": [
       "['/content/drive/My Drive/OverSampling/Final_logistic_models/finallogiovrsam_reducerock.pkl']"
      ]
     },
     "execution_count": 58,
     "metadata": {
      "tags": []
     },
     "output_type": "execute_result"
    }
   ],
   "source": [
    "joblib.dump(finalmod, 'finallogiovrsam_reducerock.pkl')"
   ]
  }
 ],
 "metadata": {
  "accelerator": "GPU",
  "colab": {
   "collapsed_sections": [],
   "name": "Logistic_oversamp.ipynb",
   "provenance": []
  },
  "environment": {
   "name": "tf2-gpu.2-1.m47",
   "type": "gcloud",
   "uri": "gcr.io/deeplearning-platform-release/tf2-gpu.2-1:m47"
  },
  "kernelspec": {
   "display_name": "Python 3",
   "language": "python",
   "name": "python3"
  },
  "language_info": {
   "codemirror_mode": {
    "name": "ipython",
    "version": 3
   },
   "file_extension": ".py",
   "mimetype": "text/x-python",
   "name": "python",
   "nbconvert_exporter": "python",
   "pygments_lexer": "ipython3",
   "version": "3.7.4"
  }
 },
 "nbformat": 4,
 "nbformat_minor": 4
}
