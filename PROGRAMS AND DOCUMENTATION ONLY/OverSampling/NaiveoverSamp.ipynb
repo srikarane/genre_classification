{
 "cells": [
  {
   "cell_type": "markdown",
   "metadata": {
    "colab_type": "text",
    "id": "2f7fw7bIBCSL"
   },
   "source": [
    "#Author: Srikaran Elakurthy\n",
    "\n",
    "# Desciption\n",
    "> Import the oversampled train set and test set for using in Naive Bayes model.\n",
    "Implementing the Multinomial Naive bayes classification on the above dataset.\n",
    "Performing Cross validation with kfolds =5 and extract average accuracy\n",
    "Performing the naive bayes model on whole train data and test it and storing the results into files\n",
    "\n",
    ">*Detailed description is written for many parts of the code below. Please read through for the same.\n",
    "\n",
    "#Inputs and Outputs\n",
    "\n",
    "Inputs:\n",
    "> oversampling_test.csv - The oversampled distribution of records of other genres and undersampled records from the Rock genre. This is only used as the test set.\n",
    "\n",
    "> oversampling_train.csv - The oversampled distribution of records of other genres and undersampled records from the Rock genre. This is only used as the train set.\n",
    "\n",
    "Outputs:\n",
    "> Naiveovrsamp_results.txt - Cross Validation results written into a file\n",
    "> finalNaiveoversamp_results.txt - Results obtained on the test set after final train.\n",
    "> final_NaiveBayesovrsam - The final trained model written into a pickle file.\n",
    "> finalresNaivovrsam.csv - The actual vs predicted genres CSV. \n",
    "\n",
    "> *The inputs to the program must be in the same folder as the script.\n",
    "\n",
    "\n",
    "INPUT: The input to the program are oversampling_test.csv and oversampling_train.csv\n",
    "OUTPUT:\n",
    "report:\n",
    "              precision    recall  f1-score   support\n",
    "\n",
    "       Other       0.85      0.16      0.27      5753\n",
    "        Rock       0.98      0.19      0.32      5725\n",
    "     Country       0.95      0.92      0.93      5694\n",
    "     Electronic    0.72      0.78      0.75      5708\n",
    "       Indie       0.99      0.60      0.75      5448\n",
    "       Metal       0.70      0.18      0.28      4340\n",
    "     Hip-Hop       0.92      0.37      0.53      5650\n",
    "         Pop       0.81      0.42      0.55      5433\n",
    "        Folk       0.50      0.11      0.18      7014\n",
    "         R&B       0.94      0.58      0.72      5381\n",
    "        Jazz       0.25      0.95      0.40     10111\n",
    "\n",
    "    accuracy                          0.51     66257\n",
    "    macro avg     0.78      0.48      0.52     66257\n",
    "    weighted avg  0.74      0.51      0.50     66257"
   ]
  },
  {
   "cell_type": "markdown",
   "metadata": {
    "colab_type": "text",
    "id": "BpbIhguZBMoW"
   },
   "source": [
    "Importing the python packages and reading train and test csv files"
   ]
  },
  {
   "cell_type": "code",
   "execution_count": null,
   "metadata": {
    "colab": {
     "base_uri": "https://localhost:8080/",
     "height": 71
    },
    "colab_type": "code",
    "executionInfo": {
     "elapsed": 8939,
     "status": "ok",
     "timestamp": 1589185967477,
     "user": {
      "displayName": "Srikaran Elakurthy",
      "photoUrl": "",
      "userId": "11196471557604689597"
     },
     "user_tz": 240
    },
    "id": "KrQm8DYZ2zD1",
    "outputId": "0478355b-7189-4358-a5ca-0f8a198d6284"
   },
   "outputs": [
    {
     "name": "stderr",
     "output_type": "stream",
     "text": [
      "/usr/local/lib/python3.6/dist-packages/sklearn/externals/joblib/__init__.py:15: FutureWarning: sklearn.externals.joblib is deprecated in 0.21 and will be removed in 0.23. Please import this functionality directly from joblib, which can be installed with: pip install joblib. If this warning is raised when loading pickled models, you may need to re-serialize those models with scikit-learn 0.21+.\n",
      "  warnings.warn(msg, category=FutureWarning)\n"
     ]
    }
   ],
   "source": [
    "import numpy as np\n",
    "import pandas as pd\n",
    "import re\n",
    "from nltk import pos_tag\n",
    "import nltk\n",
    "#nltk.download('averaged_perceptron_tagger')\n",
    "#from langdetect import detect\n",
    "import nltk\n",
    "from nltk.tokenize import RegexpTokenizer\n",
    "from nltk.stem import PorterStemmer\n",
    "#import emoji\n",
    "from sklearn.model_selection import train_test_split\n",
    "from sklearn.feature_extraction.text import CountVectorizer\n",
    "from sklearn.feature_extraction.text import TfidfVectorizer\n",
    "from sklearn.naive_bayes import MultinomialNB\n",
    "import matplotlib.pyplot as plt\n",
    "from sklearn.metrics import classification_report\n",
    "from sklearn.utils import shuffle\n",
    "from sklearn.externals import joblib \n",
    "from sklearn.preprocessing import Normalizer\n",
    "from scipy.sparse import hstack\n",
    "from sklearn.metrics import classification_report\n",
    "from statistics import mean\n",
    "from sklearn.model_selection import StratifiedKFold\n",
    "from sklearn.metrics import accuracy_score\n",
    "from sklearn.linear_model import LogisticRegression\n",
    "testdf=pd.read_csv(\"oversampling_test.csv\")\n",
    "traindf=pd.read_csv(\"oversampling_train.csv\")"
   ]
  },
  {
   "cell_type": "code",
   "execution_count": null,
   "metadata": {
    "colab": {
     "base_uri": "https://localhost:8080/",
     "height": 204
    },
    "colab_type": "code",
    "executionInfo": {
     "elapsed": 334,
     "status": "ok",
     "timestamp": 1589185973595,
     "user": {
      "displayName": "Srikaran Elakurthy",
      "photoUrl": "",
      "userId": "11196471557604689597"
     },
     "user_tz": 240
    },
    "id": "sSCPh6gw2zD7",
    "outputId": "2977645b-4c13-4fdc-be0c-c2db57a41c84"
   },
   "outputs": [
    {
     "data": {
      "text/html": [
       "<div>\n",
       "<style scoped>\n",
       "    .dataframe tbody tr th:only-of-type {\n",
       "        vertical-align: middle;\n",
       "    }\n",
       "\n",
       "    .dataframe tbody tr th {\n",
       "        vertical-align: top;\n",
       "    }\n",
       "\n",
       "    .dataframe thead th {\n",
       "        text-align: right;\n",
       "    }\n",
       "</style>\n",
       "<table border=\"1\" class=\"dataframe\">\n",
       "  <thead>\n",
       "    <tr style=\"text-align: right;\">\n",
       "      <th></th>\n",
       "      <th>Unnamed: 0</th>\n",
       "      <th>lyrics</th>\n",
       "      <th>genre</th>\n",
       "    </tr>\n",
       "  </thead>\n",
       "  <tbody>\n",
       "    <tr>\n",
       "      <th>0</th>\n",
       "      <td>253258</td>\n",
       "      <td>a kay a kay jordan de shoe pairan vich kaali h...</td>\n",
       "      <td>Other</td>\n",
       "    </tr>\n",
       "    <tr>\n",
       "      <th>1</th>\n",
       "      <td>99993</td>\n",
       "      <td>i remeb when i saw you at the diner s yet my h...</td>\n",
       "      <td>Rock</td>\n",
       "    </tr>\n",
       "    <tr>\n",
       "      <th>2</th>\n",
       "      <td>267744</td>\n",
       "      <td>you left the water run when you left me here b...</td>\n",
       "      <td>Country</td>\n",
       "    </tr>\n",
       "    <tr>\n",
       "      <th>3</th>\n",
       "      <td>132459</td>\n",
       "      <td>thing that happen when you fall asleep when yo...</td>\n",
       "      <td>Electronic</td>\n",
       "    </tr>\n",
       "    <tr>\n",
       "      <th>4</th>\n",
       "      <td>312277</td>\n",
       "      <td>oh my god my heart s as heavi as a stone and w...</td>\n",
       "      <td>Indie</td>\n",
       "    </tr>\n",
       "  </tbody>\n",
       "</table>\n",
       "</div>"
      ],
      "text/plain": [
       "   Unnamed: 0                                             lyrics       genre\n",
       "0      253258  a kay a kay jordan de shoe pairan vich kaali h...       Other\n",
       "1       99993  i remeb when i saw you at the diner s yet my h...        Rock\n",
       "2      267744  you left the water run when you left me here b...     Country\n",
       "3      132459  thing that happen when you fall asleep when yo...  Electronic\n",
       "4      312277  oh my god my heart s as heavi as a stone and w...       Indie"
      ]
     },
     "execution_count": 3,
     "metadata": {
      "tags": []
     },
     "output_type": "execute_result"
    }
   ],
   "source": [
    "traindf.head()"
   ]
  },
  {
   "cell_type": "markdown",
   "metadata": {
    "colab_type": "text",
    "id": "Ge1lQKFnBkwk"
   },
   "source": [
    "Dropping the unnamed columns which was created when importing the csv file"
   ]
  },
  {
   "cell_type": "code",
   "execution_count": null,
   "metadata": {
    "colab": {},
    "colab_type": "code",
    "id": "i4a6qqIv2zEA"
   },
   "outputs": [],
   "source": [
    "traindf.drop(traindf.columns[traindf.columns.str.contains('unnamed',case = False)],axis = 1, inplace = True)\n",
    "\n",
    "testdf.drop(testdf.columns[testdf.columns.str.contains('unnamed',case = False)],axis = 1, inplace = True)\n",
    "\n",
    "\n"
   ]
  },
  {
   "cell_type": "code",
   "execution_count": null,
   "metadata": {
    "colab": {},
    "colab_type": "code",
    "id": "DpODLs1D2zED"
   },
   "outputs": [],
   "source": [
    "lyrics=traindf['lyrics']\n",
    "genre=traindf['genre']"
   ]
  },
  {
   "cell_type": "markdown",
   "metadata": {
    "colab_type": "text",
    "id": "yMf1lz9aBtwd"
   },
   "source": [
    "Performing cross validation with 5 splits and implementing tfidf vectorization inside the cross validation to avoid any data leakage.\n",
    "TFidf Vectorization will consider parameters stop_words= english specifying that it will be removing any english words and says to consider both unigrams and bigrams.\n",
    "We are taking Multinomial Naive bayes model specifying we are seeking a multi class problem and alpha =1 specifying smoothing is allowed. \n",
    "Storing the models in pickle files using joblib and results with actual and predicted values into a csv file.\n",
    "Storing the accuracy of every cross validation split into a list."
   ]
  },
  {
   "cell_type": "code",
   "execution_count": null,
   "metadata": {
    "colab": {},
    "colab_type": "code",
    "id": "1h79QAha2zEG",
    "outputId": "9997d5d4-d26c-4e84-97dc-d5f5abf7a4d8"
   },
   "outputs": [
    {
     "name": "stderr",
     "output_type": "stream",
     "text": [
      "/opt/conda/lib/python3.7/site-packages/sklearn/model_selection/_split.py:296: FutureWarning: Setting a random_state has no effect since shuffle is False. This will raise an error in 0.24. You should leave random_state to its default (None), or set shuffle=True.\n",
      "  FutureWarning\n"
     ]
    },
    {
     "name": "stdout",
     "output_type": "stream",
     "text": [
      "[ 51850  51866  51875 ... 265023 265024 265025]\n",
      "[    0     1     2 ... 54345 54349 54374]\n",
      "tfidf1\n",
      "0.47017318794098784\n",
      "[     0      1      2 ... 265023 265024 265025]\n",
      "[ 51850  51866  51875 ... 107644 107658 107681]\n",
      "tfidf2\n",
      "0.4693896802188473\n",
      "[     0      1      2 ... 265023 265024 265025]\n",
      "[104764 104787 104788 ... 160528 160554 160556]\n",
      "tfidf3\n",
      "0.47029525516460713\n",
      "[     0      1      2 ... 265023 265024 265025]\n",
      "[158303 158310 158313 ... 213057 213074 213081]\n",
      "tfidf4\n",
      "0.4699556645599472\n",
      "[     0      1      2 ... 213057 213074 213081]\n",
      "[211342 211344 211365 ... 265023 265024 265025]\n",
      "tfidf5\n",
      "0.4694085463635506\n"
     ]
    }
   ],
   "source": [
    "skf = StratifiedKFold(n_splits=5, random_state=0)\n",
    "i=0\n",
    "naivrep=[]\n",
    "naivscore=[]\n",
    "for train_index, test_index in skf.split(lyrics, genre):\n",
    "    print(train_index)\n",
    "    print(test_index)\n",
    "    x_train1, x_test1 = lyrics.iloc[train_index], lyrics.iloc[test_index]\n",
    "    y_train, y_test = genre.iloc[train_index], genre.iloc[test_index]\n",
    "    i=i+1\n",
    "    tfidf = TfidfVectorizer(stop_words=\"english\",ngram_range=(1,2))\n",
    "    x_train = tfidf.fit_transform(x_train1)\n",
    "    x_test = tfidf.transform(x_test1)\n",
    "    print(\"tfidf\"+str(i))\n",
    "    \n",
    "    clf = MultinomialNB(alpha=1.0)\n",
    "    clf.fit(x_train, y_train)\n",
    "    y_pred = clf.predict(x_test)\n",
    "    joblib.dump(clf, 'NaiveBayesovrsam'+str(i)+'.pkl')\n",
    "    score = accuracy_score(y_test, y_pred)\n",
    "    rep=classification_report(y_test, y_pred, target_names=traindf.genre.unique())\n",
    "    naivrep.append(rep)\n",
    "    dat={'Actual':y_test,'pred':y_pred}\n",
    "    resdf=pd.DataFrame(dat)\n",
    "    resdf.to_csv('resNaivebayesovrsam'+str(i)+'.csv')\n",
    "    naivscore.append(score)\n",
    "    print(score)"
   ]
  },
  {
   "cell_type": "markdown",
   "metadata": {
    "colab_type": "text",
    "id": "U5_5HabaB297"
   },
   "source": [
    "Creating a file to write our classification report for our 5 results of Cross validation models and computing the average accuracy and writing them into the file.\n",
    "The classification report is computed by using the results csv files containing the actual and predicted values of ech split."
   ]
  },
  {
   "cell_type": "code",
   "execution_count": null,
   "metadata": {
    "colab": {},
    "colab_type": "code",
    "id": "Tb-4KEus2zEI"
   },
   "outputs": [],
   "source": [
    "f=open(\"Naiveovrsamp_results.txt\",\"a\")\n",
    "\n",
    "for i in range(1,6):\n",
    "    f.write(\"\\n report\"+str(i)+\":\\n\")\n",
    "    dfr=pd.read_csv(\"resNaivebayesovrsam\"+str(i)+\".csv\")\n",
    "    dfr.drop(dfr.columns[dfr.columns.str.contains('unnamed',case = False)],axis = 1, inplace = True)\n",
    "    f.write(classification_report(dfr.Actual, dfr.pred, target_names=traindf.genre.unique()))\n",
    "f.write(\"\\nThe average score for this model is\")\n",
    "\n",
    "f.close()"
   ]
  },
  {
   "cell_type": "markdown",
   "metadata": {
    "colab_type": "text",
    "id": "sVShHVEJB4Fj"
   },
   "source": [
    "Declaring the naive bayes model with alpha =1 specifying smoothing is allowed."
   ]
  },
  {
   "cell_type": "code",
   "execution_count": null,
   "metadata": {
    "colab": {},
    "colab_type": "code",
    "id": "2a58MvMK2zEK"
   },
   "outputs": [],
   "source": [
    "finalmod = MultinomialNB(alpha=1.0)"
   ]
  },
  {
   "cell_type": "markdown",
   "metadata": {
    "colab_type": "text",
    "id": "P7kEMPdeB_Z-"
   },
   "source": [
    "Perform tfidf vectorization to extraxt tfidf matrix on whole training data and use the fitted vectorizer to transform the test data to tfidf matrix.\n",
    "\n",
    "Tfidf matrix considers:\n",
    "*   Removing stop words\n",
    "*   Considering both unigrams and bigrams"
   ]
  },
  {
   "cell_type": "code",
   "execution_count": null,
   "metadata": {
    "colab": {},
    "colab_type": "code",
    "id": "pnaXWl5m2zEM"
   },
   "outputs": [],
   "source": [
    "tfidf = TfidfVectorizer(stop_words=\"english\",ngram_range=(1,2))\n",
    "trainvec = tfidf.fit_transform(traindf['lyrics'])\n",
    "testvec = tfidf.transform(testdf['lyrics'])"
   ]
  },
  {
   "cell_type": "markdown",
   "metadata": {
    "colab_type": "text",
    "id": "JhAEx3cZCA3O"
   },
   "source": [
    "Fitting the model with train tfidf matrix and train target variable(genre's)"
   ]
  },
  {
   "cell_type": "code",
   "execution_count": null,
   "metadata": {
    "colab": {
     "base_uri": "https://localhost:8080/",
     "height": 34
    },
    "colab_type": "code",
    "executionInfo": {
     "elapsed": 5053,
     "status": "ok",
     "timestamp": 1589186142001,
     "user": {
      "displayName": "Srikaran Elakurthy",
      "photoUrl": "",
      "userId": "11196471557604689597"
     },
     "user_tz": 240
    },
    "id": "5OAuyq6D2zEO",
    "outputId": "9cf1d873-1983-4bfb-899c-56d45a5a4a07"
   },
   "outputs": [
    {
     "data": {
      "text/plain": [
       "MultinomialNB(alpha=1.0, class_prior=None, fit_prior=True)"
      ]
     },
     "execution_count": 7,
     "metadata": {
      "tags": []
     },
     "output_type": "execute_result"
    }
   ],
   "source": [
    "finalmod.fit(trainvec, traindf['genre'])"
   ]
  },
  {
   "cell_type": "markdown",
   "metadata": {
    "colab_type": "text",
    "id": "IQAOa6FACJD5"
   },
   "source": [
    "Predicting the test data using test tfidf matrix"
   ]
  },
  {
   "cell_type": "code",
   "execution_count": null,
   "metadata": {
    "colab": {},
    "colab_type": "code",
    "id": "UrVny3Hb2zEQ"
   },
   "outputs": [],
   "source": [
    "y_pred = finalmod.predict(testvec)"
   ]
  },
  {
   "cell_type": "markdown",
   "metadata": {
    "colab_type": "text",
    "id": "7UnzJswDCRnC"
   },
   "source": [
    "Computing the classification report and writing the results into a file."
   ]
  },
  {
   "cell_type": "code",
   "execution_count": null,
   "metadata": {
    "colab": {},
    "colab_type": "code",
    "id": "RsUZU6IK2zER"
   },
   "outputs": [],
   "source": [
    "f=open(\"finalNaiveoversamp_results.txt\",\"a\")\n",
    "f.write(\"\\n report:\\n\")\n",
    "f.write(classification_report(testdf['genre'], y_pred, target_names=traindf.genre.unique()))\n",
    "f.close()"
   ]
  },
  {
   "cell_type": "markdown",
   "metadata": {
    "colab_type": "text",
    "id": "fUkl5nnTCVs0"
   },
   "source": [
    "Storing the results into a csv file with actual vs predicted "
   ]
  },
  {
   "cell_type": "code",
   "execution_count": null,
   "metadata": {
    "colab": {},
    "colab_type": "code",
    "id": "SpY1vgyL2zES"
   },
   "outputs": [],
   "source": [
    "dat={'Actual':testdf['genre'],'pred':y_pred}\n",
    "resdf=pd.DataFrame(dat)\n",
    "resdf.to_csv('finalresNaivovrsam.csv')"
   ]
  },
  {
   "cell_type": "markdown",
   "metadata": {
    "colab_type": "text",
    "id": "xqoBPH_uCiAb"
   },
   "source": [
    "Storing the model using joblib into. a pickle file"
   ]
  },
  {
   "cell_type": "code",
   "execution_count": null,
   "metadata": {
    "colab": {
     "base_uri": "https://localhost:8080/",
     "height": 34
    },
    "colab_type": "code",
    "executionInfo": {
     "elapsed": 3181,
     "status": "ok",
     "timestamp": 1589186372441,
     "user": {
      "displayName": "Srikaran Elakurthy",
      "photoUrl": "",
      "userId": "11196471557604689597"
     },
     "user_tz": 240
    },
    "id": "g1Jn5g032zEV",
    "outputId": "cbc7d9e3-81d2-4c85-c6c2-dc1e0ee34d98"
   },
   "outputs": [
    {
     "data": {
      "text/plain": [
       "['/content/drive/My Drive/OverSampling/Final_models/final_NaiveBayesovrsam.pkl']"
      ]
     },
     "execution_count": 12,
     "metadata": {
      "tags": []
     },
     "output_type": "execute_result"
    }
   ],
   "source": [
    "joblib.dump(finalmod, 'final_NaiveBayesovrsam.pkl')"
   ]
  }
 ],
 "metadata": {
  "colab": {
   "collapsed_sections": [],
   "name": "NaiveoverSamp.ipynb",
   "provenance": []
  },
  "environment": {
   "name": "tf2-gpu.2-1.m47",
   "type": "gcloud",
   "uri": "gcr.io/deeplearning-platform-release/tf2-gpu.2-1:m47"
  },
  "kernelspec": {
   "display_name": "Python 3",
   "language": "python",
   "name": "python3"
  },
  "language_info": {
   "codemirror_mode": {
    "name": "ipython",
    "version": 3
   },
   "file_extension": ".py",
   "mimetype": "text/x-python",
   "name": "python",
   "nbconvert_exporter": "python",
   "pygments_lexer": "ipython3",
   "version": "3.7.4"
  }
 },
 "nbformat": 4,
 "nbformat_minor": 4
}
